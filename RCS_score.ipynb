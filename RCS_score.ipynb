{
 "cells": [
  {
   "cell_type": "code",
   "execution_count": 1,
   "id": "3215851e",
   "metadata": {},
   "outputs": [
    {
     "name": "stderr",
     "output_type": "stream",
     "text": [
      "Warning message:\n",
      "\"package 'tidyverse' was built under R version 4.2.3\"\n",
      "Warning message:\n",
      "\"package 'ggplot2' was built under R version 4.2.3\"\n",
      "── \u001b[1mAttaching core tidyverse packages\u001b[22m ──────────────────────────────────────────────────────────────── tidyverse 2.0.0 ──\n",
      "\u001b[32m✔\u001b[39m \u001b[34mdplyr    \u001b[39m 1.1.0     \u001b[32m✔\u001b[39m \u001b[34mreadr    \u001b[39m 2.1.4\n",
      "\u001b[32m✔\u001b[39m \u001b[34mforcats  \u001b[39m 1.0.0     \u001b[32m✔\u001b[39m \u001b[34mstringr  \u001b[39m 1.5.0\n",
      "\u001b[32m✔\u001b[39m \u001b[34mggplot2  \u001b[39m 3.4.2     \u001b[32m✔\u001b[39m \u001b[34mtibble   \u001b[39m 3.1.8\n",
      "\u001b[32m✔\u001b[39m \u001b[34mlubridate\u001b[39m 1.9.2     \u001b[32m✔\u001b[39m \u001b[34mtidyr    \u001b[39m 1.3.0\n",
      "\u001b[32m✔\u001b[39m \u001b[34mpurrr    \u001b[39m 1.0.1     \n",
      "── \u001b[1mConflicts\u001b[22m ────────────────────────────────────────────────────────────────────────────────── tidyverse_conflicts() ──\n",
      "\u001b[31m✖\u001b[39m \u001b[34mdplyr\u001b[39m::\u001b[32mfilter()\u001b[39m  masks \u001b[34mstats\u001b[39m::filter()\n",
      "\u001b[31m✖\u001b[39m \u001b[34mpurrr\u001b[39m::\u001b[32mflatten()\u001b[39m masks \u001b[34mjsonlite\u001b[39m::flatten()\n",
      "\u001b[31m✖\u001b[39m \u001b[34mdplyr\u001b[39m::\u001b[32mlag()\u001b[39m     masks \u001b[34mstats\u001b[39m::lag()\n",
      "\u001b[36mℹ\u001b[39m Use the conflicted package (\u001b[3m\u001b[34m<http://conflicted.r-lib.org/>\u001b[39m\u001b[23m) to force all conflicts to become errors\n",
      "Loading required package: ggpubr\n",
      "\n",
      "\n",
      "Attaching package: 'survminer'\n",
      "\n",
      "\n",
      "The following object is masked from 'package:survival':\n",
      "\n",
      "    myeloma\n",
      "\n",
      "\n",
      "\n",
      "Attaching package: 'gridExtra'\n",
      "\n",
      "\n",
      "The following object is masked from 'package:dplyr':\n",
      "\n",
      "    combine\n",
      "\n",
      "\n",
      "\n",
      "Attaching package: 'cowplot'\n",
      "\n",
      "\n",
      "The following object is masked from 'package:ggpubr':\n",
      "\n",
      "    get_legend\n",
      "\n",
      "\n",
      "The following object is masked from 'package:lubridate':\n",
      "\n",
      "    stamp\n",
      "\n",
      "\n",
      "Loading required package: grid\n",
      "\n",
      "========================================\n",
      "ComplexHeatmap version 2.12.1\n",
      "Bioconductor page: http://bioconductor.org/packages/ComplexHeatmap/\n",
      "Github page: https://github.com/jokergoo/ComplexHeatmap\n",
      "Documentation: http://jokergoo.github.io/ComplexHeatmap-reference\n",
      "\n",
      "If you use it in published research, please cite either one:\n",
      "- Gu, Z. Complex heatmaps reveal patterns and correlations in multidimensional \n",
      "    genomic data. Bioinformatics 2016.\n",
      "- Gu, Z. Complex Heatmap Visualization. iMeta 2022.\n",
      "\n",
      "\n",
      "The new InteractiveComplexHeatmap package can directly export static \n",
      "complex heatmaps into an interactive Shiny app with zero effort. Have a try!\n",
      "\n",
      "This message can be suppressed by:\n",
      "  suppressPackageStartupMessages(library(ComplexHeatmap))\n",
      "========================================\n",
      "\n",
      "\n",
      "\n",
      "Attaching package: 'patchwork'\n",
      "\n",
      "\n",
      "The following object is masked from 'package:cowplot':\n",
      "\n",
      "    align_plots\n",
      "\n",
      "\n",
      "Warning message:\n",
      "\"package 'ggpmisc' was built under R version 4.2.3\"\n",
      "Loading required package: ggpp\n",
      "\n",
      "Warning message:\n",
      "\"package 'ggpp' was built under R version 4.2.3\"\n",
      "\n",
      "Attaching package: 'ggpp'\n",
      "\n",
      "\n",
      "The following object is masked from 'package:ggplot2':\n",
      "\n",
      "    annotate\n",
      "\n",
      "\n",
      "Registered S3 method overwritten by 'ggpmisc':\n",
      "  method                  from   \n",
      "  as.character.polynomial polynom\n",
      "\n",
      "Warning message:\n",
      "\"package 'ggsci' was built under R version 4.2.3\"\n",
      "corrplot 0.92 loaded\n",
      "\n",
      "Warning message:\n",
      "\"package 'openxlsx' was built under R version 4.2.3\"\n",
      "\n",
      "Attaching package: 'reshape2'\n",
      "\n",
      "\n",
      "The following object is masked from 'package:tidyr':\n",
      "\n",
      "    smiths\n",
      "\n",
      "\n"
     ]
    }
   ],
   "source": [
    "###### set environment and load rdata\n",
    "library(tidyverse)\n",
    "library(survival)\n",
    "library(survminer)\n",
    "library(\"ggplot2\")\n",
    "library(\"ggpubr\")\n",
    "library(gridExtra)\n",
    "library(ggrepel)\n",
    "library(\"cowplot\")\n",
    "library(RColorBrewer)\n",
    "library(ComplexHeatmap)\n",
    "library(grid)\n",
    "library(dplyr)\n",
    "library(patchwork)\n",
    "library(ggpmisc)\n",
    "library(ggsci)\n",
    "library(corrplot)\n",
    "library(cowplot)\n",
    "library(openxlsx)\n",
    "library(reshape2)"
   ]
  },
  {
   "cell_type": "markdown",
   "id": "b72ea790",
   "metadata": {},
   "source": [
    "# step1"
   ]
  },
  {
   "cell_type": "code",
   "execution_count": 4,
   "id": "3c21e8c8",
   "metadata": {
    "scrolled": true
   },
   "outputs": [
    {
     "name": "stderr",
     "output_type": "stream",
     "text": [
      "Warning message:\n",
      "\"package 'sads' was built under R version 4.2.3\"\n",
      "Loading required package: bbmle\n",
      "\n",
      "Warning message:\n",
      "\"package 'bbmle' was built under R version 4.2.3\"\n",
      "Loading required package: stats4\n",
      "\n",
      "\n",
      "Attaching package: 'bbmle'\n",
      "\n",
      "\n",
      "The following object is masked from 'package:dplyr':\n",
      "\n",
      "    slice\n",
      "\n",
      "\n",
      "Warning message:\n",
      "\"package 'MASS' was built under R version 4.2.3\"\n",
      "\n",
      "Attaching package: 'MASS'\n",
      "\n",
      "\n",
      "The following object is masked from 'package:patchwork':\n",
      "\n",
      "    area\n",
      "\n",
      "\n",
      "The following object is masked from 'package:dplyr':\n",
      "\n",
      "    select\n",
      "\n",
      "\n",
      "Warning message:\n",
      "\"namespace 'mobster' is not available and has been replaced\n",
      "by .GlobalEnv when processing object 'plot1'\"\n"
     ]
    }
   ],
   "source": [
    "#source(\"reviewer_v2_mo/RCS_source/escc_function.r\")\n",
    "#load(\"reviewer_v2_mo/RCS_source/mobster_primary_no_pub_SNP_ZY.RData\")\n",
    "\n",
    "source(\"escc_function.r\")\n",
    "load(\"mobster_primary_no_pub_SNP_ZY.RData\")"
   ]
  },
  {
   "cell_type": "code",
   "execution_count": 6,
   "id": "8e201f51",
   "metadata": {},
   "outputs": [],
   "source": [
    "###clonaility score, cs at sample level\n",
    "#escc_pi <- read.table(\"reviewer_v2_mo/RCS_source/ESCC_WES_TitanCNA_ABSOLUTE_purity_ploity_depth_choice.txt\",header = T)\n",
    "escc_pi <- read.table(\"ESCC_WES_TitanCNA_ABSOLUTE_purity_ploity_depth_choice.txt\",header = T)\n",
    "escc_pi<-escc_pi[grep(\"T[0-9]\",escc_pi$sample),] #primary\n",
    "escc_pi$patient=substring(escc_pi$sample,1,7)\n",
    "pts=unique(escc_pi$patient)\n",
    "cs_in=NULL\n",
    "for (i in 1:length(plot1)) {\n",
    "  #i=1\n",
    "  if(!is.null(plot1[[i]])) {\n",
    "    tmp=fscs(plot1[[i]])\n",
    "    cs_in=rbind(cs_in,tmp)\n",
    "  }\n",
    "}\n",
    "cs_in$patient=substring(cs_in$sample,1,7)\n",
    "\n",
    "clonality_score=scs_score(cs_in[which(cs_in$N_sub>=10),]) #cs_in[which(cs_in$N_sub>30),]"
   ]
  },
  {
   "cell_type": "code",
   "execution_count": 8,
   "id": "564d6797",
   "metadata": {},
   "outputs": [],
   "source": [
    "##RCS at patient_level\n",
    "M=aggregate(score~patient,clonality_score,median) ## mean\n",
    "D=aggregate(score~patient,clonality_score,sd)  ##variance\n",
    "MX=aggregate(score~patient,clonality_score,max)  ##variance\n",
    "rcs_escc=data.frame(patient=pts)\n",
    "colnames(rcs_escc)[1]=\"patient\"\n",
    "rcs_escc$Median_log10_scs=M$score[match(rcs_escc$patient,M$patient)]\n",
    "rcs_escc$SD_log10_scs=D$score[match(rcs_escc$patient,D$patient)]\n",
    "rcs_escc$SD_log10_scs[is.na(rcs_escc$SD_log10_scs)]=0\n",
    "rcs_escc$max_log10_scs=MX$score[match(rcs_escc$patient,MX$patient)]"
   ]
  },
  {
   "cell_type": "markdown",
   "id": "eda7e784",
   "metadata": {},
   "source": [
    "# step2: visualization"
   ]
  },
  {
   "cell_type": "code",
   "execution_count": 9,
   "id": "d13795db",
   "metadata": {},
   "outputs": [],
   "source": [
    "#source(\"reviewer_v2_mo/RCS_source/escc_function.r\")\n",
    "#setwd(\"D:/1.escc/writing/Revision/\")\n",
    "#load(file = \"reviewer_v2_mo/RCS_source//escc_ci_info.RData\")\n",
    "\n",
    "\n",
    "source(\"escc_function.r\")\n",
    "#setwd(\"D:/1.escc/writing/Revision/\")\n",
    "load(file = \"escc_ci_info.RData\")"
   ]
  },
  {
   "cell_type": "code",
   "execution_count": 10,
   "id": "55f782d4",
   "metadata": {},
   "outputs": [
    {
     "data": {
      "image/png": "[encoded data removed]",
      "text/plain": [
       "plot without title"
      ]
     },
     "metadata": {
      "image/png": {
       "height": 300,
       "width": 960
      }
     },
     "output_type": "display_data"
    }
   ],
   "source": [
    "#part1.distribution of RCS\n",
    "g1 <- sn_info %>% filter(grepl('T',Sample) & !is.na(log2_RCS) ) %>% group_by(Patient) %>% mutate(medRCS = median(log2_RCS)) %>%\n",
    "  ggplot(aes(x = reorder(Patient,log2_RCS, FUN=median),y = log2_RCS))+ \n",
    "  geom_boxplot(aes(color=medRCS),outlier.colour=\"white\", outlier.size=1) + labs(x = \"\", y = \"RCS\")+ #\"#E41A1C\"\n",
    "  theme_bw()+theme(panel.grid = element_blank(),plot.title = element_text(hjust = 0.5))+\n",
    "  theme(legend.position = c(0.2,0.8))+\n",
    "  theme(axis.text.x=element_blank(),\n",
    "    axis.text.y = element_text(size=12,colour = \"black\"),\n",
    "    axis.ticks.y = element_line(linewidth =0.8),\n",
    "    axis.ticks.x = element_blank(),\n",
    "    axis.title = element_text(size=16,colour = \"black\")\n",
    "  ) +scale_color_gradient(low = \"#9ECAE1\",high = \"#084594\")+\n",
    "  guides(color=guide_colorbar(title=\"median RCS\",title.vjust = 0.75,direction = \"horizontal\"))\n",
    "\n",
    "options(repr.plot.width=16, repr.plot.height=5)\n",
    "print(g1)"
   ]
  },
  {
   "cell_type": "code",
   "execution_count": 11,
   "id": "c649dec1",
   "metadata": {},
   "outputs": [
    {
     "data": {
      "image/png": "[encoded data removed]",
      "text/plain": [
       "plot without title"
      ]
     },
     "metadata": {
      "image/png": {
       "height": 360,
       "width": 360
      }
     },
     "output_type": "display_data"
    }
   ],
   "source": [
    "col=factor(ci_info$patient_CH)\n",
    "levels(col)=c(\"#00AFBB\", \"#E7B800\", \"#FC4E07\")\n",
    "g2=ci_info %>% mutate(col=col) %>%\n",
    "  ggboxplot( x = \"patient_CH\", y = \"Median_log2_scs\", color = \"black\",#palette = c(\"#00AFBB\", \"#E7B800\", \"#FC4E07\"),\n",
    "             legend=\"\",add = \"jitter\", add.params = list(color = col),\n",
    "            )+ylab(\"median RCS\")+xlab(\"\")+\n",
    "  stat_compare_means(comparisons = list(c(\"Cold\",\"Het\"),c(\"Het\",\"Hot\"),c(\"Cold\",\"Hot\")), label = \"p.format\")+\n",
    "  coord_cartesian(clip = \"off\") + ##避免注释看不清\n",
    "  theme(plot.margin=unit(c(1,1,1,1),'lines'))\n",
    "\n",
    "options(repr.plot.width=6, repr.plot.height=6)\n",
    "print(g2)"
   ]
  },
  {
   "cell_type": "code",
   "execution_count": 12,
   "id": "df886bdb",
   "metadata": {},
   "outputs": [
    {
     "data": {
      "image/png": "[encoded data removed]",
      "text/plain": [
       "plot without title"
      ]
     },
     "metadata": {
      "image/png": {
       "height": 360,
       "width": 360
      }
     },
     "output_type": "display_data"
    }
   ],
   "source": [
    "#Part3: IE vs RCS\n",
    "library(ggsci)\n",
    "col=factor(ci_info$IM_group,levels=c('Weak','Strong'))\n",
    "levels(col)=pal_aaas()(2)\n",
    "g3=ci_info %>% mutate(col=col) %>% ggboxplot( x = \"IM_group\", y = \"Median_log2_scs\", color = \"black\",#palette = \"aaas\",\n",
    "         add = \"jitter\",xlab =\"\",ylab = \"median RCS\" ,legend=\"\",\n",
    "         add.params = list(color = col))+\n",
    "  stat_compare_means(comparisons = list(c('Weak','Strong')), label = \"p.format\")+\n",
    "  coord_cartesian(clip = \"off\") + ##避免注释看不清\n",
    "  theme(plot.margin=unit(c(1,1,1,1),'lines'))\n",
    "print(g3)"
   ]
  },
  {
   "cell_type": "code",
   "execution_count": 13,
   "id": "1e8587fd",
   "metadata": {},
   "outputs": [
    {
     "data": {
      "image/png": "[encoded data removed]",
      "text/plain": [
       "plot without title"
      ]
     },
     "metadata": {
      "image/png": {
       "height": 480,
       "width": 480
      }
     },
     "output_type": "display_data"
    }
   ],
   "source": [
    "#Part4: Association RCS　with overall survival\n",
    "item=as.numeric(ci_info$max_log2_scs) #\n",
    "Data <- data.frame(\n",
    "  sample = ci_info$Patients_ID,\n",
    "  time = as.numeric(ci_info$time),\n",
    "  status = as.numeric(ci_info$event),\n",
    "  score=as.numeric(ci_info$max_log2_scs)\n",
    ")\n",
    "Data=na.omit(Data)\n",
    "cutoff<-quantile(Data$score,probs = 0.5)\n",
    "Data$Group = ifelse(Data$score > cutoff,\"High\",\"Low\") \n",
    "Data$Group=as.factor(Data$Group)\n",
    "survmax<-ggsurvplot(survfit(Surv(time, status) ~ Group, data = Data[-which(Data$sample %in% c(\"ESCC012\",\"ESCC049\",\"ESCC061\") ),] ),\n",
    "                    pval=TRUE,conf.int=FALSE,palette = \"lancet\",risk.table = TRUE,\n",
    "                    surv.median.line=\"hv\",pval.method = FALSE,xlab=\"Time (Months)\",\n",
    "                    ggtheme = theme_light(base_size = 10),legend=\"right\")\n",
    "\n",
    "options(repr.plot.width=8, repr.plot.height=8)\n",
    "\n",
    "survmax"
   ]
  },
  {
   "cell_type": "code",
   "execution_count": null,
   "id": "ad581854",
   "metadata": {},
   "outputs": [],
   "source": []
  }
 ],
 "metadata": {
  "kernelspec": {
   "display_name": "R",
   "language": "R",
   "name": "ir"
  },
  "language_info": {
   "codemirror_mode": "r",
   "file_extension": ".r",
   "mimetype": "text/x-r-source",
   "name": "R",
   "pygments_lexer": "r",
   "version": "4.2.2"
  },
  "toc": {
   "base_numbering": 1,
   "nav_menu": {},
   "number_sections": true,
   "sideBar": true,
   "skip_h1_title": false,
   "title_cell": "Table of Contents",
   "title_sidebar": "Contents",
   "toc_cell": false,
   "toc_position": {},
   "toc_section_display": true,
   "toc_window_display": false
  }
 },
 "nbformat": 4,
 "nbformat_minor": 5
}
